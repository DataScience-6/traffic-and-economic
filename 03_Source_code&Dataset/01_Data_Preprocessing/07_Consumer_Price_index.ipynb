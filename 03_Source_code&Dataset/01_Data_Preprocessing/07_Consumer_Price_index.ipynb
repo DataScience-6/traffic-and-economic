{
 "cells": [
  {
   "cell_type": "code",
   "execution_count": 1,
   "metadata": {},
   "outputs": [],
   "source": [
    "import pandas as pd\n",
    "import numpy as np\n",
    "import matplotlib.pyplot as plt"
   ]
  },
  {
   "cell_type": "code",
   "execution_count": 2,
   "metadata": {},
   "outputs": [
    {
     "data": {
      "text/html": [
       "<div>\n",
       "<style scoped>\n",
       "    .dataframe tbody tr th:only-of-type {\n",
       "        vertical-align: middle;\n",
       "    }\n",
       "\n",
       "    .dataframe tbody tr th {\n",
       "        vertical-align: top;\n",
       "    }\n",
       "\n",
       "    .dataframe thead th {\n",
       "        text-align: right;\n",
       "    }\n",
       "</style>\n",
       "<table border=\"1\" class=\"dataframe\">\n",
       "  <thead>\n",
       "    <tr style=\"text-align: right;\">\n",
       "      <th></th>\n",
       "      <th>시점</th>\n",
       "      <th>Nationwide Consumer Price Index</th>\n",
       "    </tr>\n",
       "  </thead>\n",
       "  <tbody>\n",
       "    <tr>\n",
       "      <th>0</th>\n",
       "      <td>2024.04</td>\n",
       "      <td>113.99</td>\n",
       "    </tr>\n",
       "    <tr>\n",
       "      <th>1</th>\n",
       "      <td>2024.03</td>\n",
       "      <td>113.94</td>\n",
       "    </tr>\n",
       "    <tr>\n",
       "      <th>2</th>\n",
       "      <td>2024.02</td>\n",
       "      <td>113.77</td>\n",
       "    </tr>\n",
       "    <tr>\n",
       "      <th>3</th>\n",
       "      <td>2024.01</td>\n",
       "      <td>113.15</td>\n",
       "    </tr>\n",
       "    <tr>\n",
       "      <th>4</th>\n",
       "      <td>2023.12</td>\n",
       "      <td>112.71</td>\n",
       "    </tr>\n",
       "  </tbody>\n",
       "</table>\n",
       "</div>"
      ],
      "text/plain": [
       "        시점  Nationwide Consumer Price Index\n",
       "0  2024.04                           113.99\n",
       "1  2024.03                           113.94\n",
       "2  2024.02                           113.77\n",
       "3  2024.01                           113.15\n",
       "4  2023.12                           112.71"
      ]
     },
     "execution_count": 2,
     "metadata": {},
     "output_type": "execute_result"
    }
   ],
   "source": [
    "# Read excel file\n",
    "\n",
    "Consumer_Price_index = pd.read_excel(\"../00_Data/Original_data/Consumer_Price_index.xlsx\")\n",
    "Consumer_Price_index.head()"
   ]
  },
  {
   "cell_type": "code",
   "execution_count": 3,
   "metadata": {},
   "outputs": [
    {
     "name": "stdout",
     "output_type": "stream",
     "text": [
      "<class 'pandas.core.frame.DataFrame'>\n",
      "RangeIndex: 160 entries, 0 to 159\n",
      "Data columns (total 2 columns):\n",
      " #   Column                           Non-Null Count  Dtype  \n",
      "---  ------                           --------------  -----  \n",
      " 0   시점                               160 non-null    float64\n",
      " 1   Nationwide Consumer Price Index  160 non-null    float64\n",
      "dtypes: float64(2)\n",
      "memory usage: 2.6 KB\n"
     ]
    }
   ],
   "source": [
    "Consumer_Price_index.info()"
   ]
  },
  {
   "cell_type": "code",
   "execution_count": 4,
   "metadata": {},
   "outputs": [
    {
     "data": {
      "text/html": [
       "<div>\n",
       "<style scoped>\n",
       "    .dataframe tbody tr th:only-of-type {\n",
       "        vertical-align: middle;\n",
       "    }\n",
       "\n",
       "    .dataframe tbody tr th {\n",
       "        vertical-align: top;\n",
       "    }\n",
       "\n",
       "    .dataframe thead th {\n",
       "        text-align: right;\n",
       "    }\n",
       "</style>\n",
       "<table border=\"1\" class=\"dataframe\">\n",
       "  <thead>\n",
       "    <tr style=\"text-align: right;\">\n",
       "      <th></th>\n",
       "      <th>시점</th>\n",
       "      <th>Nationwide Consumer Price Index</th>\n",
       "    </tr>\n",
       "  </thead>\n",
       "  <tbody>\n",
       "    <tr>\n",
       "      <th>0</th>\n",
       "      <td>2024.04</td>\n",
       "      <td>113.990</td>\n",
       "    </tr>\n",
       "    <tr>\n",
       "      <th>1</th>\n",
       "      <td>2024.03</td>\n",
       "      <td>113.940</td>\n",
       "    </tr>\n",
       "    <tr>\n",
       "      <th>2</th>\n",
       "      <td>2024.02</td>\n",
       "      <td>113.770</td>\n",
       "    </tr>\n",
       "    <tr>\n",
       "      <th>3</th>\n",
       "      <td>2024.01</td>\n",
       "      <td>113.150</td>\n",
       "    </tr>\n",
       "    <tr>\n",
       "      <th>4</th>\n",
       "      <td>2023.12</td>\n",
       "      <td>112.710</td>\n",
       "    </tr>\n",
       "    <tr>\n",
       "      <th>...</th>\n",
       "      <td>...</td>\n",
       "      <td>...</td>\n",
       "    </tr>\n",
       "    <tr>\n",
       "      <th>155</th>\n",
       "      <td>2011.05</td>\n",
       "      <td>89.497</td>\n",
       "    </tr>\n",
       "    <tr>\n",
       "      <th>156</th>\n",
       "      <td>2011.04</td>\n",
       "      <td>89.325</td>\n",
       "    </tr>\n",
       "    <tr>\n",
       "      <th>157</th>\n",
       "      <td>2011.03</td>\n",
       "      <td>89.238</td>\n",
       "    </tr>\n",
       "    <tr>\n",
       "      <th>158</th>\n",
       "      <td>2011.02</td>\n",
       "      <td>88.892</td>\n",
       "    </tr>\n",
       "    <tr>\n",
       "      <th>159</th>\n",
       "      <td>2011.01</td>\n",
       "      <td>88.288</td>\n",
       "    </tr>\n",
       "  </tbody>\n",
       "</table>\n",
       "<p>160 rows × 2 columns</p>\n",
       "</div>"
      ],
      "text/plain": [
       "          시점  Nationwide Consumer Price Index\n",
       "0    2024.04                          113.990\n",
       "1    2024.03                          113.940\n",
       "2    2024.02                          113.770\n",
       "3    2024.01                          113.150\n",
       "4    2023.12                          112.710\n",
       "..       ...                              ...\n",
       "155  2011.05                           89.497\n",
       "156  2011.04                           89.325\n",
       "157  2011.03                           89.238\n",
       "158  2011.02                           88.892\n",
       "159  2011.01                           88.288\n",
       "\n",
       "[160 rows x 2 columns]"
      ]
     },
     "execution_count": 4,
     "metadata": {},
     "output_type": "execute_result"
    }
   ],
   "source": [
    "Consumer_Price_index_drop = Consumer_Price_index.dropna()\n",
    "Consumer_Price_index_drop"
   ]
  },
  {
   "cell_type": "code",
   "execution_count": 5,
   "metadata": {},
   "outputs": [
    {
     "name": "stdout",
     "output_type": "stream",
     "text": [
      "<class 'pandas.core.frame.DataFrame'>\n",
      "RangeIndex: 160 entries, 0 to 159\n",
      "Data columns (total 2 columns):\n",
      " #   Column                           Non-Null Count  Dtype  \n",
      "---  ------                           --------------  -----  \n",
      " 0   시점                               160 non-null    float64\n",
      " 1   Nationwide Consumer Price Index  160 non-null    float64\n",
      "dtypes: float64(2)\n",
      "memory usage: 2.6 KB\n"
     ]
    }
   ],
   "source": [
    "Consumer_Price_index_drop.info()"
   ]
  },
  {
   "cell_type": "code",
   "execution_count": 6,
   "metadata": {},
   "outputs": [
    {
     "data": {
      "text/html": [
       "<div>\n",
       "<style scoped>\n",
       "    .dataframe tbody tr th:only-of-type {\n",
       "        vertical-align: middle;\n",
       "    }\n",
       "\n",
       "    .dataframe tbody tr th {\n",
       "        vertical-align: top;\n",
       "    }\n",
       "\n",
       "    .dataframe thead th {\n",
       "        text-align: right;\n",
       "    }\n",
       "</style>\n",
       "<table border=\"1\" class=\"dataframe\">\n",
       "  <thead>\n",
       "    <tr style=\"text-align: right;\">\n",
       "      <th></th>\n",
       "      <th>시점</th>\n",
       "      <th>Nationwide Consumer Price Index</th>\n",
       "    </tr>\n",
       "  </thead>\n",
       "  <tbody>\n",
       "    <tr>\n",
       "      <th>count</th>\n",
       "      <td>160.000000</td>\n",
       "      <td>160.000000</td>\n",
       "    </tr>\n",
       "    <tr>\n",
       "      <th>mean</th>\n",
       "      <td>2017.239000</td>\n",
       "      <td>98.656000</td>\n",
       "    </tr>\n",
       "    <tr>\n",
       "      <th>std</th>\n",
       "      <td>3.863316</td>\n",
       "      <td>6.430109</td>\n",
       "    </tr>\n",
       "    <tr>\n",
       "      <th>min</th>\n",
       "      <td>2011.010000</td>\n",
       "      <td>88.288000</td>\n",
       "    </tr>\n",
       "    <tr>\n",
       "      <th>25%</th>\n",
       "      <td>2014.047500</td>\n",
       "      <td>94.118500</td>\n",
       "    </tr>\n",
       "    <tr>\n",
       "      <th>50%</th>\n",
       "      <td>2017.085000</td>\n",
       "      <td>97.665000</td>\n",
       "    </tr>\n",
       "    <tr>\n",
       "      <th>75%</th>\n",
       "      <td>2020.342500</td>\n",
       "      <td>100.815000</td>\n",
       "    </tr>\n",
       "    <tr>\n",
       "      <th>max</th>\n",
       "      <td>2024.040000</td>\n",
       "      <td>113.990000</td>\n",
       "    </tr>\n",
       "  </tbody>\n",
       "</table>\n",
       "</div>"
      ],
      "text/plain": [
       "                시점  Nationwide Consumer Price Index\n",
       "count   160.000000                       160.000000\n",
       "mean   2017.239000                        98.656000\n",
       "std       3.863316                         6.430109\n",
       "min    2011.010000                        88.288000\n",
       "25%    2014.047500                        94.118500\n",
       "50%    2017.085000                        97.665000\n",
       "75%    2020.342500                       100.815000\n",
       "max    2024.040000                       113.990000"
      ]
     },
     "execution_count": 6,
     "metadata": {},
     "output_type": "execute_result"
    }
   ],
   "source": [
    "Consumer_Price_index_drop.describe()"
   ]
  },
  {
   "cell_type": "code",
   "execution_count": 7,
   "metadata": {},
   "outputs": [
    {
     "data": {
      "text/plain": [
       "시점                                 float64\n",
       "Nationwide Consumer Price Index    float64\n",
       "dtype: object"
      ]
     },
     "execution_count": 7,
     "metadata": {},
     "output_type": "execute_result"
    }
   ],
   "source": [
    "Consumer_Price_index_drop.dtypes"
   ]
  },
  {
   "cell_type": "code",
   "execution_count": 8,
   "metadata": {},
   "outputs": [
    {
     "data": {
      "text/html": [
       "<div>\n",
       "<style scoped>\n",
       "    .dataframe tbody tr th:only-of-type {\n",
       "        vertical-align: middle;\n",
       "    }\n",
       "\n",
       "    .dataframe tbody tr th {\n",
       "        vertical-align: top;\n",
       "    }\n",
       "\n",
       "    .dataframe thead th {\n",
       "        text-align: right;\n",
       "    }\n",
       "</style>\n",
       "<table border=\"1\" class=\"dataframe\">\n",
       "  <thead>\n",
       "    <tr style=\"text-align: right;\">\n",
       "      <th></th>\n",
       "      <th>Date</th>\n",
       "      <th>Nationwide Consumer Price Index</th>\n",
       "    </tr>\n",
       "  </thead>\n",
       "  <tbody>\n",
       "    <tr>\n",
       "      <th>0</th>\n",
       "      <td>2011-01-01</td>\n",
       "      <td>90.448</td>\n",
       "    </tr>\n",
       "    <tr>\n",
       "      <th>1</th>\n",
       "      <td>2011-01-02</td>\n",
       "      <td>90.3978064516129</td>\n",
       "    </tr>\n",
       "    <tr>\n",
       "      <th>2</th>\n",
       "      <td>2011-01-03</td>\n",
       "      <td>90.3476129032258</td>\n",
       "    </tr>\n",
       "    <tr>\n",
       "      <th>3</th>\n",
       "      <td>2011-01-04</td>\n",
       "      <td>90.29741935483871</td>\n",
       "    </tr>\n",
       "    <tr>\n",
       "      <th>4</th>\n",
       "      <td>2011-01-05</td>\n",
       "      <td>90.24722580645161</td>\n",
       "    </tr>\n",
       "    <tr>\n",
       "      <th>...</th>\n",
       "      <td>...</td>\n",
       "      <td>...</td>\n",
       "    </tr>\n",
       "    <tr>\n",
       "      <th>4835</th>\n",
       "      <td>2024-03-28</td>\n",
       "      <td>113.98354838709677</td>\n",
       "    </tr>\n",
       "    <tr>\n",
       "      <th>4836</th>\n",
       "      <td>2024-03-29</td>\n",
       "      <td>113.98516129032258</td>\n",
       "    </tr>\n",
       "    <tr>\n",
       "      <th>4837</th>\n",
       "      <td>2024-03-30</td>\n",
       "      <td>113.98677419354838</td>\n",
       "    </tr>\n",
       "    <tr>\n",
       "      <th>4838</th>\n",
       "      <td>2024-03-31</td>\n",
       "      <td>113.98838709677419</td>\n",
       "    </tr>\n",
       "    <tr>\n",
       "      <th>4839</th>\n",
       "      <td>2024-04-01</td>\n",
       "      <td>113.99</td>\n",
       "    </tr>\n",
       "  </tbody>\n",
       "</table>\n",
       "<p>4840 rows × 2 columns</p>\n",
       "</div>"
      ],
      "text/plain": [
       "            Date Nationwide Consumer Price Index\n",
       "0     2011-01-01                          90.448\n",
       "1     2011-01-02                90.3978064516129\n",
       "2     2011-01-03                90.3476129032258\n",
       "3     2011-01-04               90.29741935483871\n",
       "4     2011-01-05               90.24722580645161\n",
       "...          ...                             ...\n",
       "4835  2024-03-28              113.98354838709677\n",
       "4836  2024-03-29              113.98516129032258\n",
       "4837  2024-03-30              113.98677419354838\n",
       "4838  2024-03-31              113.98838709677419\n",
       "4839  2024-04-01                          113.99\n",
       "\n",
       "[4840 rows x 2 columns]"
      ]
     },
     "execution_count": 8,
     "metadata": {},
     "output_type": "execute_result"
    }
   ],
   "source": [
    "from datetime import datetime, timedelta\n",
    "from scipy.interpolate import interp1d\n",
    "\n",
    "# Given monthly data\n",
    "Consumer_Price_index_drop = Consumer_Price_index_drop.rename(columns={'시점': 'Date'})\n",
    "Consumer_Price_index_drop['Date'] = Consumer_Price_index_drop['Date'].astype(str)\n",
    "monthly_data = Consumer_Price_index_drop.values\n",
    "\n",
    "# Convert year-month formatted strings to date objects\n",
    "dates = [datetime.strptime(year_month, \"%Y.%m\") for year_month, _ in monthly_data]\n",
    "\n",
    "# Values of monthly data\n",
    "values = [value for _, value in monthly_data]\n",
    "\n",
    "# Sort date and value data by date\n",
    "sorted_indices = np.argsort(dates)\n",
    "sorted_dates = [dates[i] for i in sorted_indices]\n",
    "sorted_values = [values[i] for i in sorted_indices]\n",
    "\n",
    "# Create an interpolation function\n",
    "f = interp1d([date.timestamp() for date in sorted_dates], sorted_values, kind='linear')\n",
    "\n",
    "# Generate interpolated daily data\n",
    "start_date = sorted_dates[0]\n",
    "end_date = sorted_dates[-1]\n",
    "\n",
    "daily_dates = []\n",
    "current_date = start_date\n",
    "while current_date <= end_date:\n",
    "    daily_dates.append(current_date)\n",
    "    current_date += timedelta(days=1)\n",
    "\n",
    "daily_values = [f(date.timestamp()) for date in daily_dates]\n",
    "\n",
    "# Print the result\n",
    "daily_data = list(zip(daily_dates, daily_values))\n",
    "\n",
    "interpolation_function_Consumer_Price_index_drop = pd.DataFrame(daily_data, columns=Consumer_Price_index_drop.columns)\n",
    "\n",
    "interpolation_function_Consumer_Price_index_drop['Date'] = interpolation_function_Consumer_Price_index_drop['Date'].dt.strftime('%Y-%m-%d')\n",
    "\n",
    "interpolation_function_Consumer_Price_index_drop\n"
   ]
  },
  {
   "cell_type": "code",
   "execution_count": 9,
   "metadata": {},
   "outputs": [
    {
     "data": {
      "text/plain": [
       "Text(0, 0.5, 'Nationwide Consumer Price Index')"
      ]
     },
     "execution_count": 9,
     "metadata": {},
     "output_type": "execute_result"
    },
    {
     "data": {
      "image/png": "[encoded data removed]",
      "text/plain": [
       "<Figure size 1000x500 with 1 Axes>"
      ]
     },
     "metadata": {},
     "output_type": "display_data"
    }
   ],
   "source": [
    "plt.figure(figsize=(10, 5))\n",
    "plt.plot(interpolation_function_Consumer_Price_index_drop['Date'], interpolation_function_Consumer_Price_index_drop['Nationwide Consumer Price Index'], color='blue')\n",
    "plt.title('Nationwide Consumer Price Index')\n",
    "plt.xlabel('Date')\n",
    "plt.ylabel('Nationwide Consumer Price Index')"
   ]
  },
  {
   "cell_type": "code",
   "execution_count": 10,
   "metadata": {},
   "outputs": [],
   "source": [
    "interpolation_function_Consumer_Price_index_drop.to_excel(\"../00_Data/Transformed_data/interpolation_function_Consumer_Price_index_drop.xlsx\")"
   ]
  }
 ],
 "metadata": {
  "kernelspec": {
   "display_name": "Python 3",
   "language": "python",
   "name": "python3"
  },
  "language_info": {
   "codemirror_mode": {
    "name": "ipython",
    "version": 3
   },
   "file_extension": ".py",
   "mimetype": "text/x-python",
   "name": "python",
   "nbconvert_exporter": "python",
   "pygments_lexer": "ipython3",
   "version": "3.12.1"
  }
 },
 "nbformat": 4,
 "nbformat_minor": 2
}
